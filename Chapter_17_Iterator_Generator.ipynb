{
 "cells": [
  {
   "cell_type": "code",
   "execution_count": null,
   "id": "74eee66e",
   "metadata": {},
   "outputs": [],
   "source": [
    "class pipeline:\n",
    "    def __init__(self, cvts):\n",
    "        self.cvt_list = list(cvts)\n",
    "\n",
    "    def __getitem__(self, index):\n",
    "        return self.cvt_list[index]\n",
    "    \n",
    "    def __iter__(self):\n",
    "        return iter(self.cvt_list)\n",
    "    \n",
    "    def __len__(self):\n",
    "        return len(self.cvt_list)"
   ]
  },
  {
   "cell_type": "code",
   "execution_count": null,
   "id": "09de2c6d",
   "metadata": {},
   "outputs": [],
   "source": [
    "class converter:\n",
    "    def __init__(self, name):\n",
    "        self.name = name"
   ]
  },
  {
   "cell_type": "code",
   "execution_count": null,
   "id": "f2ba0ef0",
   "metadata": {},
   "outputs": [],
   "source": [
    "cvt_list = []\n",
    "\n",
    "for i in range(5):\n",
    "    cvt = converter(f'cvt_{i}')\n",
    "    cvt_list.append(cvt)\n",
    "    \n",
    "cvt_pipeline = pipeline(cvt_list)\n",
    "for cvt in cvt_pipeline:\n",
    "    print(cvt.name)\n",
    "    \n",
    "print(cvt_pipeline[0].name)"
   ]
  }
 ],
 "metadata": {
  "kernelspec": {
   "display_name": "base",
   "language": "python",
   "name": "python3"
  },
  "language_info": {
   "codemirror_mode": {
    "name": "ipython",
    "version": 3
   },
   "file_extension": ".py",
   "mimetype": "text/x-python",
   "name": "python",
   "nbconvert_exporter": "python",
   "pygments_lexer": "ipython3",
   "version": "3.13.5"
  }
 },
 "nbformat": 4,
 "nbformat_minor": 5
}
