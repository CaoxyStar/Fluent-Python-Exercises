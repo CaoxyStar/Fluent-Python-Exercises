{
 "cells": [
  {
   "cell_type": "code",
   "execution_count": null,
   "id": "8f2aa5ed",
   "metadata": {},
   "outputs": [],
   "source": [
    "# Dict comprehension\n",
    "\n",
    "players = [\n",
    "    ('curry', 30),\n",
    "    ('durant', 35),\n",
    "    ('thompson', 11),\n",
    "    ('green', 23),\n",
    "    ('paul', 3)\n",
    "]\n",
    "\n",
    "players_dict = {name: age for name, age in players}\n",
    "print(players_dict)"
   ]
  },
  {
   "cell_type": "code",
   "execution_count": null,
   "id": "31a05d33",
   "metadata": {},
   "outputs": [],
   "source": [
    "# Using ** to Unpack a Dictionary\n",
    "\n",
    "def add_compute(a, b, c):\n",
    "    return a + b + c\n",
    "\n",
    "numbers = {'a':1, 'b':2}\n",
    "print(add_compute(**numbers, c=3))"
   ]
  },
  {
   "cell_type": "code",
   "execution_count": null,
   "id": "7d30616d",
   "metadata": {},
   "outputs": [],
   "source": [
    "# Set Comprehension Example\n",
    "\n",
    "set_ = {i % 2 for i in range(10)}\n",
    "print(set_)"
   ]
  }
 ],
 "metadata": {
  "kernelspec": {
   "display_name": "base",
   "language": "python",
   "name": "python3"
  },
  "language_info": {
   "codemirror_mode": {
    "name": "ipython",
    "version": 3
   },
   "file_extension": ".py",
   "mimetype": "text/x-python",
   "name": "python",
   "nbconvert_exporter": "python",
   "pygments_lexer": "ipython3",
   "version": "3.13.5"
  }
 },
 "nbformat": 4,
 "nbformat_minor": 5
}
