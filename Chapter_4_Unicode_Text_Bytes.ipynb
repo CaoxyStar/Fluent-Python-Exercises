{
 "cells": [
  {
   "cell_type": "code",
   "execution_count": null,
   "id": "fdd4030d",
   "metadata": {},
   "outputs": [],
   "source": [
    "# Unicode Text Versus Bytes\n",
    "\n",
    "text = 'café'\n",
    "bytes_ = text.encode('utf-8')       # encoding (unicode to bytes)\n",
    "re_text = bytes_.decode('utf-8')    # decoding (bytes to unicode)\n",
    "\n",
    "print(text)\n",
    "print(bytes_)\n",
    "print(re_text)"
   ]
  }
 ],
 "metadata": {
  "kernelspec": {
   "display_name": "base",
   "language": "python",
   "name": "python3"
  },
  "language_info": {
   "codemirror_mode": {
    "name": "ipython",
    "version": 3
   },
   "file_extension": ".py",
   "mimetype": "text/x-python",
   "name": "python",
   "nbconvert_exporter": "python",
   "pygments_lexer": "ipython3",
   "version": "3.13.5"
  }
 },
 "nbformat": 4,
 "nbformat_minor": 5
}
