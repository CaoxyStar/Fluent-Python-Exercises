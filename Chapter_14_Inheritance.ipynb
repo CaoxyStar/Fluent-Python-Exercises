{
 "cells": [
  {
   "cell_type": "code",
   "execution_count": null,
   "id": "dd04ff55",
   "metadata": {},
   "outputs": [],
   "source": [
    "class DoppelDict(dict):\n",
    "    def __setitem__(self, key, value):\n",
    "        super().__setitem__(key, [value] * 2)\n",
    "\n",
    "\n",
    "dd = DoppelDict(one=1)\n",
    "print(dd)\n",
    "dd['two'] = 2\n",
    "print(dd)\n",
    "dd.update(three=3)\n",
    "print(dd)"
   ]
  },
  {
   "cell_type": "code",
   "execution_count": null,
   "id": "6dd26e82",
   "metadata": {},
   "outputs": [],
   "source": [
    "class AnswerDict(DoppelDict):\n",
    "    def __getitem__(self, key):\n",
    "        return 42\n",
    "\n",
    "ad = AnswerDict(one=1)\n",
    "ad['two'] = 2\n",
    "print(ad['one'])\n",
    "print(ad)\n",
    "d = {}\n",
    "d.update(ad)\n",
    "print(d['one'])\n",
    "print(d)"
   ]
  }
 ],
 "metadata": {
  "kernelspec": {
   "display_name": "base",
   "language": "python",
   "name": "python3"
  },
  "language_info": {
   "codemirror_mode": {
    "name": "ipython",
    "version": 3
   },
   "file_extension": ".py",
   "mimetype": "text/x-python",
   "name": "python",
   "nbconvert_exporter": "python",
   "pygments_lexer": "ipython3",
   "version": "3.13.5"
  }
 },
 "nbformat": 4,
 "nbformat_minor": 5
}
