{
 "cells": [
  {
   "cell_type": "code",
   "execution_count": null,
   "id": "4ba63a73",
   "metadata": {},
   "outputs": [],
   "source": [
    "# Magic Method Example 1\n",
    "\n",
    "import collections\n",
    "\n",
    "Card = collections.namedtuple('Card', ['rank', 'suit'])\n",
    "\n",
    "class FrenchDeck:\n",
    "    ranks = [str(n) for n in range(2, 11)] + list('JQKA')\n",
    "    suits = 'spades diamonds clubs hearts'.split()\n",
    "    def __init__(self):\n",
    "        self._cards = [Card(rank, suit) for suit in self.suits\n",
    "                                        for rank in self.ranks]\n",
    "    def __len__(self):\n",
    "        return len(self._cards)\n",
    "\n",
    "    def __getitem__(self, position):\n",
    "        return self._cards[position]"
   ]
  },
  {
   "cell_type": "code",
   "execution_count": null,
   "id": "d2f3b3ab",
   "metadata": {},
   "outputs": [],
   "source": [
    "# Test Example 1\n",
    "\n",
    "import random\n",
    "\n",
    "deck = FrenchDeck()\n",
    "\n",
    "print(f'The length of deck is {len(deck)}.')\n",
    "print(random.choice(deck))\n",
    "print(deck[:3])\n",
    "print(Card('Q', 'hearts') in deck)\n"
   ]
  },
  {
   "cell_type": "code",
   "execution_count": null,
   "id": "ea136226",
   "metadata": {},
   "outputs": [],
   "source": [
    "# Magic Method Example 2\n",
    "\n",
    "import math\n",
    "\n",
    "class Vector:\n",
    "    def __init__(self, x=0, y=0):\n",
    "        self.x = x\n",
    "        self.y = y\n",
    "    \n",
    "    def __add__(self, other):\n",
    "        return Vector(self.x + other.x, self.y + other.y)\n",
    "    \n",
    "    def __abs__(self):\n",
    "        return math.hypot(self.x, self.y)\n",
    "    \n",
    "    def __mul__(self, scalar):\n",
    "        return Vector(self.x * scalar, self.y * scalar)\n",
    "    \n",
    "    def __repr__(self):\n",
    "        return f'Vector({self.x}, {self.y})'\n",
    "    \n",
    "    def __bool__(self):\n",
    "        if math.hypot(self.x, self.y) == 0:\n",
    "            return False\n",
    "        else:\n",
    "            return True"
   ]
  },
  {
   "cell_type": "code",
   "execution_count": null,
   "id": "2b4e2bf4",
   "metadata": {},
   "outputs": [],
   "source": [
    "# Test Example 2\n",
    "\n",
    "v1 = Vector(1, 3)\n",
    "v2 = Vector(2, 1)\n",
    "\n",
    "print(v1 + v2)\n",
    "print(abs(v1 + v2))\n",
    "print(v1 * 3)\n",
    "print(bool(v1))"
   ]
  }
 ],
 "metadata": {
  "kernelspec": {
   "display_name": "base",
   "language": "python",
   "name": "python3"
  },
  "language_info": {
   "codemirror_mode": {
    "name": "ipython",
    "version": 3
   },
   "file_extension": ".py",
   "mimetype": "text/x-python",
   "name": "python",
   "nbconvert_exporter": "python",
   "pygments_lexer": "ipython3",
   "version": "3.13.5"
  }
 },
 "nbformat": 4,
 "nbformat_minor": 5
}
