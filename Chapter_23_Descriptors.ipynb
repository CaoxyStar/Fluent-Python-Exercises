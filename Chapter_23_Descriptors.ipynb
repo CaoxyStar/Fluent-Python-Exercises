{
 "cells": [
  {
   "cell_type": "code",
   "execution_count": null,
   "id": "03e2ce62",
   "metadata": {},
   "outputs": [],
   "source": [
    "# Class Attribute and Instance Attribute\n",
    "\n",
    "class MyClass:\n",
    "    attribute = 'origin'\n",
    "\n",
    "c1 = MyClass()\n",
    "c2 = MyClass()\n",
    "\n",
    "print(c1.attribute, c2.attribute)\n",
    "\n",
    "MyClass.attribute = 'changed'\n",
    "\n",
    "print(c1.attribute, c2.attribute)\n",
    "\n",
    "c1.attribute = 'changed again'\n",
    "\n",
    "print(c1.attribute, c2.attribute)"
   ]
  },
  {
   "cell_type": "code",
   "execution_count": null,
   "id": "5f6ec10e",
   "metadata": {},
   "outputs": [],
   "source": [
    "class UpperName:\n",
    "    def __init__(self, name):\n",
    "        self.name = name\n",
    "    \n",
    "    def __get__(self, instance, owner):\n",
    "        return self.name.upper()\n",
    "    \n",
    "    def __set__(self, instance, value):\n",
    "        self.name = value\n",
    "\n",
    "class Person:\n",
    "    name = UpperName('Curry')\n",
    "\n",
    "p = Person()\n",
    "print(p.name)\n",
    "p.name = 'James'\n",
    "print(p.name)"
   ]
  }
 ],
 "metadata": {
  "kernelspec": {
   "display_name": "base",
   "language": "python",
   "name": "python3"
  },
  "language_info": {
   "codemirror_mode": {
    "name": "ipython",
    "version": 3
   },
   "file_extension": ".py",
   "mimetype": "text/x-python",
   "name": "python",
   "nbconvert_exporter": "python",
   "pygments_lexer": "ipython3",
   "version": "3.13.5"
  }
 },
 "nbformat": 4,
 "nbformat_minor": 5
}
