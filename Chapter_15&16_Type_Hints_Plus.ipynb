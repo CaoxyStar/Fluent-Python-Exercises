{
 "cells": [
  {
   "cell_type": "code",
   "execution_count": null,
   "id": "a6638c17",
   "metadata": {},
   "outputs": [],
   "source": [
    "from typing import overload\n",
    "\n",
    "# just work as a type checker\n",
    "@overload\n",
    "def add(a: int, b: int) -> int:\n",
    "    return\n",
    "\n",
    "@overload\n",
    "def add(a: str, b: str) -> str:\n",
    "    return\n",
    "\n",
    "def add(a, b):\n",
    "    if isinstance(a, int) and isinstance(b, int):\n",
    "        return a + b\n",
    "    if isinstance(a, str) and isinstance(b, str):\n",
    "        return a + b * 2\n",
    "    raise TypeError\n",
    "\n",
    "print(add(1, 2))\n",
    "print(add('a', 'b'))\n"
   ]
  }
 ],
 "metadata": {
  "kernelspec": {
   "display_name": "base",
   "language": "python",
   "name": "python3"
  },
  "language_info": {
   "codemirror_mode": {
    "name": "ipython",
    "version": 3
   },
   "file_extension": ".py",
   "mimetype": "text/x-python",
   "name": "python",
   "nbconvert_exporter": "python",
   "pygments_lexer": "ipython3",
   "version": "3.13.5"
  }
 },
 "nbformat": 4,
 "nbformat_minor": 5
}
