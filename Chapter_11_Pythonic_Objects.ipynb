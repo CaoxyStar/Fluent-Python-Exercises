{
 "cells": [
  {
   "cell_type": "code",
   "execution_count": null,
   "id": "22d6bead",
   "metadata": {},
   "outputs": [],
   "source": [
    "# A Pythonic Object Example\n",
    "\n",
    "import math\n",
    "from array import array\n",
    "\n",
    "class Vector2d:\n",
    "    typecode = 'd'\n",
    "\n",
    "    def __init__(self, x, y):\n",
    "        self.x = float(x)\n",
    "        self.y = float(y)\n",
    "    \n",
    "    def __iter__(self):\n",
    "        return (i for i in (self.x, self.y))\n",
    "    \n",
    "    def __repr__(self):\n",
    "        class_name = type(self).__name__\n",
    "        return f'{class_name}({self.x!r}, {self.y!r})'\n",
    "    \n",
    "    def __str__(self):\n",
    "        return str(tuple(self))\n",
    "    \n",
    "    def __bytes__(self):\n",
    "        return bytes([ord(self.typecode)]) + bytes(array(self.typecode, self))\n",
    "    \n",
    "    @classmethod\n",
    "    def frombytes(cls, octets):\n",
    "        typecode = chr(octets[0])\n",
    "        memv = memoryview(octets[1:]).cast(typecode)\n",
    "        return cls(*memv)\n",
    "    \n",
    "    def __eq__(self, other):\n",
    "        return tuple(self) == tuple(other)\n",
    "    \n",
    "    def __abs__(self):\n",
    "        return math.hypot(self.x, self.y)\n",
    "    \n",
    "    def __bool__(self):\n",
    "        return bool(abs(self))"
   ]
  },
  {
   "cell_type": "code",
   "execution_count": null,
   "id": "88090b7e",
   "metadata": {},
   "outputs": [],
   "source": [
    "# Test\n",
    "\n",
    "v1 = Vector2d(3, 4)\n",
    "x, y = v1\n",
    "print(x, y)\n",
    "print(v1)\n",
    "print(abs(v1))\n",
    "print(bool(v1), bool(Vector2d(0, 0)))\n",
    "v2 = Vector2d.frombytes(bytes(v1))\n",
    "print(v1 == v2)\n",
    "eval(repr(v1))"
   ]
  },
  {
   "cell_type": "code",
   "execution_count": null,
   "id": "15590afc",
   "metadata": {},
   "outputs": [],
   "source": [
    "# class method and static method decorators\n",
    "\n",
    "class Demo:\n",
    "    @classmethod\n",
    "    def class_method(*args):\n",
    "        return args\n",
    "        \n",
    "    @staticmethod\n",
    "    def static_method(*args):\n",
    "        return args\n",
    "    \n",
    "    def normal_method(*args):\n",
    "        return args\n",
    "\n",
    "print(Demo.class_method())\n",
    "print(Demo.class_method(1, 2, 3))\n",
    "print(Demo.static_method())\n",
    "print(Demo.static_method(1, 2, 3))"
   ]
  }
 ],
 "metadata": {
  "kernelspec": {
   "display_name": "base",
   "language": "python",
   "name": "python3"
  },
  "language_info": {
   "codemirror_mode": {
    "name": "ipython",
    "version": 3
   },
   "file_extension": ".py",
   "mimetype": "text/x-python",
   "name": "python",
   "nbconvert_exporter": "python",
   "pygments_lexer": "ipython3",
   "version": "3.13.5"
  }
 },
 "nbformat": 4,
 "nbformat_minor": 5
}
