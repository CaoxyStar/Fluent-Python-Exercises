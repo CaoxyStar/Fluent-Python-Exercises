{
 "cells": [
  {
   "cell_type": "code",
   "execution_count": null,
   "id": "8df6574a",
   "metadata": {},
   "outputs": [],
   "source": [
    "# Strategy Pattern and Abstract Base Class\n",
    "\n",
    "from abc import ABC, abstractmethod\n",
    "\n",
    "class Compute(ABC):\n",
    "    @abstractmethod\n",
    "    def execute(self, a, b):\n",
    "        \"\"\"Execute the program.\"\"\"\n",
    "\n",
    "class Add(Compute):\n",
    "    def execute(self, a, b):\n",
    "        print(f'{a} + {b} = {a + b}')\n",
    "\n",
    "class Multiply(Compute):\n",
    "    def execute(self, a, b):\n",
    "        print(f'{a} * {b} = {a * b}')\n",
    "\n",
    "add_ = Add()\n",
    "add_.execute(1, 2)\n",
    "multiply_ = Multiply()\n",
    "multiply_.execute(1, 2)"
   ]
  }
 ],
 "metadata": {
  "kernelspec": {
   "display_name": "base",
   "language": "python",
   "name": "python3"
  },
  "language_info": {
   "codemirror_mode": {
    "name": "ipython",
    "version": 3
   },
   "file_extension": ".py",
   "mimetype": "text/x-python",
   "name": "python",
   "nbconvert_exporter": "python",
   "pygments_lexer": "ipython3",
   "version": "3.13.5"
  }
 },
 "nbformat": 4,
 "nbformat_minor": 5
}
