{
 "cells": [
  {
   "cell_type": "code",
   "execution_count": null,
   "id": "b40828a8",
   "metadata": {},
   "outputs": [],
   "source": [
    "# List Comprehension Example 1\n",
    "\n",
    "symbols = '$¢£¥€¤'\n",
    "codes = [ord(symbol) for symbol in symbols]\n",
    "print(codes)"
   ]
  },
  {
   "cell_type": "code",
   "execution_count": null,
   "id": "6de88a19",
   "metadata": {},
   "outputs": [],
   "source": [
    "# List Comprehension Example 2\n",
    "\n",
    "colors = ['black', 'white']\n",
    "sizes = ['S', 'M', 'L']\n",
    "tshirts = [(color, size) for color in colors for size in sizes]\n",
    "print(tshirts)"
   ]
  },
  {
   "cell_type": "code",
   "execution_count": null,
   "id": "939425d9",
   "metadata": {},
   "outputs": [],
   "source": [
    "# Generator Expression Example 1\n",
    "\n",
    "symbols = '$¢£¥€¤'\n",
    "codes = (ord(symbol) for symbol in symbols)\n",
    "print(type(codes))\n",
    "print(tuple(codes))"
   ]
  },
  {
   "cell_type": "code",
   "execution_count": null,
   "id": "dd23ea01",
   "metadata": {},
   "outputs": [],
   "source": [
    "# Generator Expression Example 2\n",
    "\n",
    "colors = ['black', 'white']\n",
    "sizes = ['S', 'M', 'L']\n",
    "for tshirt in (f'{c} {s}' for c in colors for s in sizes):\n",
    "    print(tshirt)"
   ]
  },
  {
   "cell_type": "code",
   "execution_count": null,
   "id": "9ae5bf11",
   "metadata": {},
   "outputs": [],
   "source": [
    "# Using * to Unpack a Tuple or Grab Excess Items\n",
    "\n",
    "def compute(a, b):\n",
    "    return a + b, a - b, a * b\n",
    "\n",
    "input = (8, 2)\n",
    "_, *rest = compute(*input)\n",
    "print(rest)"
   ]
  },
  {
   "cell_type": "code",
   "execution_count": null,
   "id": "2f8c1b24",
   "metadata": {},
   "outputs": [],
   "source": [
    "# Pattern Matching Example\n",
    "\n",
    "players = [\n",
    "    ('curry', 30, 402), \n",
    "    ('james', 23, 'lakers'), \n",
    "    ('durant', 35),\n",
    "]\n",
    "\n",
    "def print_player(player):\n",
    "    match player:\n",
    "        case ('curry', number, record):\n",
    "            print(f'curry {number} {record}')\n",
    "        case ('james', number, team):\n",
    "            print(f'james {number} {team}')\n",
    "        case ('durant', number):\n",
    "            print(f'durant {number}')\n",
    "\n",
    "for player in players:\n",
    "    print_player(player)"
   ]
  }
 ],
 "metadata": {
  "kernelspec": {
   "display_name": "base",
   "language": "python",
   "name": "python3"
  },
  "language_info": {
   "codemirror_mode": {
    "name": "ipython",
    "version": 3
   },
   "file_extension": ".py",
   "mimetype": "text/x-python",
   "name": "python",
   "nbconvert_exporter": "python",
   "pygments_lexer": "ipython3",
   "version": "3.13.5"
  }
 },
 "nbformat": 4,
 "nbformat_minor": 5
}
