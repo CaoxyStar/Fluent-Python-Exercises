{
 "cells": [
  {
   "cell_type": "code",
   "execution_count": null,
   "id": "ece2fb84",
   "metadata": {},
   "outputs": [],
   "source": [
    "# Type Hints are only used for static type checking\n",
    "\n",
    "def add_nums(a: int, b: int) -> int:\n",
    "    return a + b\n",
    "\n",
    "print(add_nums(1, 2))\n",
    "print(add_nums('a', 'b'))"
   ]
  },
  {
   "cell_type": "code",
   "execution_count": null,
   "id": "e82b2da4",
   "metadata": {},
   "outputs": [],
   "source": [
    "# The Usage Example of Typing\n",
    "\n",
    "from typing import Union\n",
    "\n",
    "def add_list(a: Union[int, float], b: Union[int, float]) -> Union[int, float]:\n",
    "    return a + b\n",
    "\n",
    "print(add_nums(1, 2.5))"
   ]
  }
 ],
 "metadata": {
  "kernelspec": {
   "display_name": "base",
   "language": "python",
   "name": "python3"
  },
  "language_info": {
   "codemirror_mode": {
    "name": "ipython",
    "version": 3
   },
   "file_extension": ".py",
   "mimetype": "text/x-python",
   "name": "python",
   "nbconvert_exporter": "python",
   "pygments_lexer": "ipython3",
   "version": "3.13.5"
  }
 },
 "nbformat": 4,
 "nbformat_minor": 5
}
