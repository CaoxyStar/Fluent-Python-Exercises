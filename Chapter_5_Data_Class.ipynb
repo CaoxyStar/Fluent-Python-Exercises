{
 "cells": [
  {
   "cell_type": "code",
   "execution_count": null,
   "id": "18972ee9",
   "metadata": {},
   "outputs": [],
   "source": [
    "# The drawback of normal classes\n",
    "\n",
    "class Point:\n",
    "    def __init__(self, x, y):\n",
    "        self.x = x\n",
    "        self.y = y\n",
    "\n",
    "# __repr__ inherited from object is not helpful\n",
    "p1 = Point(2, 3)\n",
    "print(p1)\n",
    "\n",
    "# __eq__ inherited from object is not helpful\n",
    "p2 = Point(2, 3)\n",
    "print(p1 == p2)"
   ]
  },
  {
   "cell_type": "code",
   "execution_count": null,
   "id": "d510b94d",
   "metadata": {},
   "outputs": [],
   "source": [
    "# collections.namedtuple Example\n",
    "\n",
    "from collections import namedtuple\n",
    "\n",
    "Point = namedtuple('Point', ['x', 'y'])\n",
    "print(issubclass(Point, tuple))\n",
    "\n",
    "p1 = Point(2, 3)\n",
    "print(p1)\n",
    "\n",
    "p2 = Point(2, 3)\n",
    "print(p1 == p2)"
   ]
  },
  {
   "cell_type": "code",
   "execution_count": null,
   "id": "547a1c0c",
   "metadata": {},
   "outputs": [],
   "source": [
    "# typing.NamedTuple Example 1\n",
    "\n",
    "import typing\n",
    "\n",
    "Point = typing.NamedTuple('Point', [('x', int), ('y', int)])\n",
    "print(issubclass(Point, tuple))\n",
    "\n",
    "p1 = Point(2, 3)\n",
    "print(p1)\n",
    "\n",
    "p2 = Point(2, 3)\n",
    "print(p1 == p2)"
   ]
  },
  {
   "cell_type": "code",
   "execution_count": null,
   "id": "11a86285",
   "metadata": {},
   "outputs": [],
   "source": [
    "# typing.NamedTuple Example 2\n",
    "\n",
    "import typing\n",
    "\n",
    "class Point(typing.NamedTuple):\n",
    "    x: int\n",
    "    y: int\n",
    "\n",
    "print(issubclass(Point, tuple))\n",
    "\n",
    "p1 = Point(2, 3)\n",
    "print(p1)\n",
    "\n",
    "p2 = Point(2, 3)\n",
    "print(p1 == p2)"
   ]
  },
  {
   "cell_type": "code",
   "execution_count": null,
   "id": "60cb4e0f",
   "metadata": {},
   "outputs": [],
   "source": [
    "# dataclasses Example\n",
    "\n",
    "from dataclasses import dataclass\n",
    "\n",
    "@dataclass(frozen=True)\n",
    "class Point:\n",
    "    x: int\n",
    "    y: int\n",
    "\n",
    "    # Modify __repr__\n",
    "    def __repr__(self):\n",
    "        return f'Point x: {self.x}, y: {self.y}'\n",
    "\n",
    "print(issubclass(Point, tuple))\n",
    "\n",
    "p1 = Point(2, 3)\n",
    "print(p1)\n",
    "\n",
    "p2 = Point(2, 3)\n",
    "print(p1 == p2)"
   ]
  }
 ],
 "metadata": {
  "kernelspec": {
   "display_name": "base",
   "language": "python",
   "name": "python3"
  },
  "language_info": {
   "codemirror_mode": {
    "name": "ipython",
    "version": 3
   },
   "file_extension": ".py",
   "mimetype": "text/x-python",
   "name": "python",
   "nbconvert_exporter": "python",
   "pygments_lexer": "ipython3",
   "version": "3.13.5"
  }
 },
 "nbformat": 4,
 "nbformat_minor": 5
}
