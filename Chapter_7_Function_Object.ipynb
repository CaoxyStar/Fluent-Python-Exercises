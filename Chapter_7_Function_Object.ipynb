{
 "cells": [
  {
   "cell_type": "code",
   "execution_count": null,
   "id": "8eb90bf4",
   "metadata": {},
   "outputs": [],
   "source": [
    "# Treating a function like an object\n",
    "\n",
    "def factorial(n):\n",
    "    '''return n!'''\n",
    "    return 1 if n < 2 else n * factorial(n - 1)\n",
    "\n",
    "print(factorial(42))\n",
    "print(factorial.__doc__)\n",
    "print(type(factorial))"
   ]
  },
  {
   "cell_type": "code",
   "execution_count": null,
   "id": "8521fd78",
   "metadata": {},
   "outputs": [],
   "source": [
    "# The Nature of Function Objects\n",
    "\n",
    "f = factorial\n",
    "print(f)\n",
    "print(f(5))\n",
    "print(list(map(factorial, range(10))))  # map is a higher-order function"
   ]
  },
  {
   "cell_type": "code",
   "execution_count": null,
   "id": "7ce25790",
   "metadata": {},
   "outputs": [],
   "source": [
    "# Higher-Order Functions\n",
    "\n",
    "fruits = ['strawberry', 'fig', 'apple', 'cherry', 'raspberry', 'banana']\n",
    "\n",
    "def reverse(word):\n",
    "    return word[::-1]\n",
    "\n",
    "print(sorted(fruits, key=len))\n",
    "print(sorted(fruits, key=reverse))"
   ]
  },
  {
   "cell_type": "code",
   "execution_count": null,
   "id": "7b5316ad",
   "metadata": {},
   "outputs": [],
   "source": [
    "# Replace Higher-Order Functions with List Comprehensions and Generator Expressions\n",
    "\n",
    "print(list(map(factorial, range(6))))\n",
    "print([factorial(n) for n in range(6)])\n",
    "\n",
    "print(list(map(factorial, filter(lambda n: n % 2, range(6)))))\n",
    "print([factorial(n) for n in range(6) if n % 2])"
   ]
  },
  {
   "cell_type": "code",
   "execution_count": null,
   "id": "9590f5f7",
   "metadata": {},
   "outputs": [],
   "source": [
    "# Anonymous Functions\n",
    "\n",
    "fruits = ['strawberry', 'fig', 'apple', 'cherry', 'raspberry', 'banana']\n",
    "# The best use of anonymous functions is in the context of an argument list for a  higher-order function.\n",
    "print(sorted(fruits, key=lambda word: word[::-1]))"
   ]
  },
  {
   "cell_type": "code",
   "execution_count": null,
   "id": "e1fc6140",
   "metadata": {},
   "outputs": [],
   "source": [
    "# User-Defined Callable Types\n",
    "\n",
    "import random\n",
    "\n",
    "class BingoCage:\n",
    "    def __init__(self, items):\n",
    "        self._items = list(items)\n",
    "        random.shuffle(self._items)\n",
    "\n",
    "    def pick(self):\n",
    "        try:\n",
    "            return self._items.pop()\n",
    "        except IndexError:\n",
    "            raise LookupError('pick from empty BingoCage')\n",
    "\n",
    "    def __call__(self):\n",
    "        return self.pick()\n",
    "\n",
    "bingo = BingoCage(range(2))\n",
    "print(bingo.pick())\n",
    "print(bingo())"
   ]
  }
 ],
 "metadata": {
  "kernelspec": {
   "display_name": "base",
   "language": "python",
   "name": "python3"
  },
  "language_info": {
   "codemirror_mode": {
    "name": "ipython",
    "version": 3
   },
   "file_extension": ".py",
   "mimetype": "text/x-python",
   "name": "python",
   "nbconvert_exporter": "python",
   "pygments_lexer": "ipython3",
   "version": "3.13.5"
  }
 },
 "nbformat": 4,
 "nbformat_minor": 5
}
