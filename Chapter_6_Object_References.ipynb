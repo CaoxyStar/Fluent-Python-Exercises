{
 "cells": [
  {
   "cell_type": "code",
   "execution_count": null,
   "id": "737e56a0",
   "metadata": {},
   "outputs": [],
   "source": [
    "# Class Reference Example\n",
    "\n",
    "from dataclasses import dataclass\n",
    "\n",
    "@dataclass\n",
    "class Point:\n",
    "    x: int\n",
    "    y: int\n",
    "\n",
    "p1 = Point(2, 3)\n",
    "p2 = p1\n",
    "print(id(p1), id(p2))\n",
    "\n",
    "p1.x = 5\n",
    "p2.y = 6\n",
    "print(p1)\n",
    "print(p2)\n",
    "print(id(p1), id(p2))\n",
    "print(p1 == p2)\n",
    "print(p1 is p2)"
   ]
  },
  {
   "cell_type": "code",
   "execution_count": null,
   "id": "9bf9f343",
   "metadata": {},
   "outputs": [],
   "source": [
    "# List Reference Example\n",
    "\n",
    "l1 = [1, 2, 3]\n",
    "l2 = l1\n",
    "print(id(l1), id(l2))\n",
    "\n",
    "l2.append(4)\n",
    "print(l1)\n",
    "print(l2)\n",
    "print(id(l1), id(l2))\n",
    "print(l1 == l2)\n",
    "print(l1 is l2)"
   ]
  },
  {
   "cell_type": "code",
   "execution_count": null,
   "id": "5bdda023",
   "metadata": {},
   "outputs": [],
   "source": [
    "# Int Reference Example\n",
    "\n",
    "a = 1\n",
    "b = a\n",
    "print(id(a), id(b))\n",
    "\n",
    "b = 2\n",
    "print(a)\n",
    "print(b)\n",
    "print(id(a), id(b))\n",
    "print(a == b)\n",
    "print(a is b)"
   ]
  },
  {
   "cell_type": "code",
   "execution_count": null,
   "id": "c36bbf0a",
   "metadata": {},
   "outputs": [],
   "source": [
    "# The difference between == and is\n",
    "\n",
    "p1 = Point(2, 3)\n",
    "p2 = Point(2, 3)\n",
    "print(p1 == p2)     # compare values\n",
    "print(p1 is p2)     # compare identities"
   ]
  },
  {
   "cell_type": "code",
   "execution_count": null,
   "id": "bd199eb3",
   "metadata": {},
   "outputs": [],
   "source": [
    "# The Relative Immutability of Tuples\n",
    "\n",
    "a = (1, 2, [3, 4])\n",
    "b = (1, 2, [3, 4])\n",
    "print(a is b)\n",
    "print(a == b)\n",
    "\n",
    "b[2].append(5)\n",
    "print(a)\n",
    "print(b)\n",
    "print(a is b)\n",
    "print(a == b)\n",
    "\n",
    "a = (1, 2, [3, 4])\n",
    "b = a\n",
    "print(a is b)\n",
    "print(a == b)\n",
    "\n",
    "b[2].append(5)\n",
    "print(a)\n",
    "print(b)\n",
    "print(a is b)\n",
    "print(a == b)"
   ]
  },
  {
   "cell_type": "code",
   "execution_count": null,
   "id": "da7f2e27",
   "metadata": {},
   "outputs": [],
   "source": [
    "# Function Parameters as References\n",
    "# (Number and Tuple are immutable, List and Class are mutable)\n",
    "\n",
    "def f(a, b):\n",
    "    a += b\n",
    "    return a\n",
    "\n",
    "x = 1\n",
    "y = 2\n",
    "print(f(x, y))\n",
    "print(x, y)\n",
    "\n",
    "x = [1, 2]\n",
    "y = [3, 4]\n",
    "print(f(x, y))\n",
    "print(x, y)\n",
    "\n",
    "x = (1, 2)\n",
    "y = (3, 4)\n",
    "print(f(x, y))\n",
    "print(x, y)\n",
    "\n",
    "def change_point(point):\n",
    "    point.x += 1\n",
    "    point.y += 1\n",
    "\n",
    "p = Point(1, 2)\n",
    "change_point(p)\n",
    "print(p)"
   ]
  }
 ],
 "metadata": {
  "kernelspec": {
   "display_name": "base",
   "language": "python",
   "name": "python3"
  },
  "language_info": {
   "codemirror_mode": {
    "name": "ipython",
    "version": 3
   },
   "file_extension": ".py",
   "mimetype": "text/x-python",
   "name": "python",
   "nbconvert_exporter": "python",
   "pygments_lexer": "ipython3",
   "version": "3.13.5"
  }
 },
 "nbformat": 4,
 "nbformat_minor": 5
}
