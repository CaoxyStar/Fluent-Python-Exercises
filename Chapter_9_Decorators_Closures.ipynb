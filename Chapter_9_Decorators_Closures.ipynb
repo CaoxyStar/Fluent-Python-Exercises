{
 "cells": [
  {
   "cell_type": "code",
   "execution_count": null,
   "id": "240f791f",
   "metadata": {},
   "outputs": [],
   "source": [
    "# Decorators run right after the decorated function is defined\n",
    "\n",
    "registry = []\n",
    "\n",
    "def register(func):\n",
    "    print(f'running register {func}')\n",
    "    registry.append(func)\n",
    "    return func\n",
    "\n",
    "@register\n",
    "def f1():\n",
    "    print('running f1')\n",
    "\n",
    "@register\n",
    "def f2():\n",
    "    print('running f2')\n",
    "\n",
    "def f3():\n",
    "    print('running f3')\n",
    "\n",
    "print(registry)\n",
    "f1()\n",
    "f2()\n",
    "f3()"
   ]
  },
  {
   "cell_type": "code",
   "execution_count": null,
   "id": "a6a5432b",
   "metadata": {},
   "outputs": [],
   "source": [
    "b = 6\n",
    "\n",
    "def f1(a):\n",
    "    print(a)\n",
    "    print(b)    # an unassigned variable inside a function will be regarded as a global variable\n",
    "\n",
    "f1(3)"
   ]
  },
  {
   "cell_type": "code",
   "execution_count": null,
   "id": "b9e7e719",
   "metadata": {},
   "outputs": [],
   "source": [
    "b = 6\n",
    "\n",
    "def f2(a):\n",
    "    print(a)\n",
    "    print(b)    # error, b is regarded as a local variable when f2 is compiled\n",
    "    b = 9\n",
    "\n",
    "f2(3)"
   ]
  },
  {
   "cell_type": "code",
   "execution_count": null,
   "id": "c44fb38e",
   "metadata": {},
   "outputs": [],
   "source": [
    "# Class-based Avg Example\n",
    "\n",
    "class Averager:\n",
    "    def __init__(self):\n",
    "        self.series = []\n",
    "    \n",
    "    def __call__(self, value):\n",
    "        self.series.append(value)\n",
    "        total = sum(self.series)\n",
    "        return total / len(self.series)\n",
    "\n",
    "avg = Averager()\n",
    "print(avg(10))\n",
    "print(avg(11))\n",
    "print(avg(12))\n",
    "            "
   ]
  },
  {
   "cell_type": "code",
   "execution_count": null,
   "id": "88447df9",
   "metadata": {},
   "outputs": [],
   "source": [
    "# Closure-based Avg Example\n",
    "\n",
    "def make_averager():\n",
    "    series = []\n",
    "\n",
    "    def averager(value):\n",
    "        series.append(value)\n",
    "        total = sum(series)\n",
    "        return total / len(series)\n",
    "    \n",
    "    return averager\n",
    "\n",
    "avg = make_averager()\n",
    "print(avg(10))\n",
    "print(avg(11))\n",
    "print(avg(12))"
   ]
  },
  {
   "cell_type": "code",
   "execution_count": null,
   "id": "bd9ac956",
   "metadata": {},
   "outputs": [],
   "source": [
    "# nonlocal Variable Example\n",
    "\n",
    "def make_averager():\n",
    "    count = 0\n",
    "    total = 0\n",
    "\n",
    "    def averager(value):\n",
    "        nonlocal count, total\n",
    "        count += 1\n",
    "        total += value\n",
    "        return total / count\n",
    "    \n",
    "    return averager\n",
    "\n",
    "avg = make_averager()\n",
    "print(avg(10))\n",
    "print(avg(11))\n",
    "print(avg(12))"
   ]
  },
  {
   "cell_type": "code",
   "execution_count": null,
   "id": "63c200db",
   "metadata": {},
   "outputs": [],
   "source": [
    "import time\n",
    "\n",
    "def clock(func):\n",
    "    def clocked(*args):\n",
    "        t0 = time.perf_counter()\n",
    "        result = func(*args)\n",
    "        elapsed = time.perf_counter() - t0\n",
    "        name = func.__name__\n",
    "        arg_str = ', '.join(repr(arg) for arg in args)\n",
    "        print('[%0.8fs] %s(%s) -> %r' % (elapsed, name, arg_str, result))\n",
    "        return result\n",
    "    return clocked"
   ]
  },
  {
   "cell_type": "code",
   "execution_count": null,
   "id": "014e1681",
   "metadata": {},
   "outputs": [],
   "source": [
    "@clock\n",
    "def snooze(seconds):\n",
    "    time.sleep(seconds)\n",
    "\n",
    "@clock\n",
    "def factorial(n):\n",
    "    return 1 if n < 2 else n * factorial(n - 1)\n",
    "\n",
    "print('*' * 40, 'Calling snooze(.123)')\n",
    "snooze(.123)\n",
    "print('*' * 40, 'Calling factorial(6)')\n",
    "print('6! =', factorial(6))"
   ]
  },
  {
   "cell_type": "code",
   "execution_count": null,
   "id": "55845150",
   "metadata": {},
   "outputs": [],
   "source": [
    "import functools\n",
    "\n",
    "@functools.cache\n",
    "@clock\n",
    "def fibonacci(n):\n",
    "    if n < 2:\n",
    "        return n\n",
    "    return fibonacci(n - 2) + fibonacci(n - 1)\n",
    "\n",
    "print(fibonacci(6))"
   ]
  }
 ],
 "metadata": {
  "kernelspec": {
   "display_name": "base",
   "language": "python",
   "name": "python3"
  },
  "language_info": {
   "codemirror_mode": {
    "name": "ipython",
    "version": 3
   },
   "file_extension": ".py",
   "mimetype": "text/x-python",
   "name": "python",
   "nbconvert_exporter": "python",
   "pygments_lexer": "ipython3",
   "version": "3.13.5"
  }
 },
 "nbformat": 4,
 "nbformat_minor": 5
}
